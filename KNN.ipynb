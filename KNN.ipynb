{
  "nbformat": 4,
  "nbformat_minor": 0,
  "metadata": {
    "colab": {
      "provenance": []
    },
    "kernelspec": {
      "name": "python3",
      "display_name": "Python 3"
    },
    "language_info": {
      "name": "python"
    }
  },
  "cells": [
    {
      "cell_type": "code",
      "execution_count": null,
      "metadata": {
        "id": "2W3CDX95eiuU"
      },
      "outputs": [],
      "source": [
        "import matplotlib.pyplot as plt\n",
        "import pandas as pd\n",
        "from sklearn import neighbors,datasets\n",
        "from sklearn.model_selection import train_test_split\n",
        "import numpy as np"
      ]
    },
    {
      "cell_type": "markdown",
      "source": [
        "Tải data và tách data"
      ],
      "metadata": {
        "id": "ZLU4LEJ2vYIf"
      }
    },
    {
      "cell_type": "code",
      "source": [
        "data = pd.read_csv('/content/Iris.csv')\n",
        "data.drop('Id',axis=1,inplace=True)\n",
        "data = data.values\n",
        "X = data[:,:-1]\n",
        "y = data[:,-1]\n",
        "\n",
        "X_train,X_test,y_train,y_test = train_test_split(X,y,test_size = 0.2,random_state=40)"
      ],
      "metadata": {
        "id": "fSGPWgGXC8BK"
      },
      "execution_count": null,
      "outputs": []
    },
    {
      "cell_type": "code",
      "source": [
        "class KNN():\n",
        "  def __init__(self,X,y,k=5):\n",
        "    self.X = X\n",
        "    self.y = y\n",
        "    self.k = k # chỉ số xác định số\n",
        "    self.label = set(self.y)\n",
        "    self.listacc = []\n",
        "\n",
        "  def distance(self,x1,x2):\n",
        "    dist = sum((x1- x2)**2)\n",
        "    return np.sqrt(dist)\n",
        "\n",
        "  # Tính khoảng cách từ 1 điểm đến tất cả các điểm còn lại\n",
        "  def list_distance(self,x):\n",
        "    arr_dis = []\n",
        "\n",
        "    for x1,y1 in zip(self.X,self.y):\n",
        "      if (x1 == x).all():\n",
        "        continue\n",
        "      arr_dis.append([self.distance(x,x1),y1])\n",
        "\n",
        "    arr_dis = sorted(arr_dis,key = lambda x:x[0])\n",
        "    return arr_dis\n",
        "\n",
        "  # Dự đoán class cho label dựa vào số k\n",
        "  def predict(self,x):\n",
        "    count = {word:0 for word in self.label}\n",
        "    arr_dis = self.list_distance(x)\n",
        "    for i in range(0,self.k):\n",
        "      count[arr_dis[i][1]] += 1\n",
        "    return max(count,key=lambda ka:count[ka])\n",
        "\n",
        "  def accuracy(self):\n",
        "    acc = 0\n",
        "    for x,y1 in zip(self.X,self.y):\n",
        "      y_pred = self.predict(x)\n",
        "      if y_pred == y1:\n",
        "        acc +=1\n",
        "    return 100*acc/len(self.X)\n"
      ],
      "metadata": {
        "id": "gAAwenTQwB2A"
      },
      "execution_count": null,
      "outputs": []
    },
    {
      "cell_type": "code",
      "source": [
        "list_acc = []\n",
        "for i in range(1,19,2):\n",
        "  knn = KNN(X_test,y_test,i)\n",
        "  list_acc.append(knn.accuracy())\n",
        "kb = range(1,19,2)"
      ],
      "metadata": {
        "id": "BdlCU7HCzGck"
      },
      "execution_count": null,
      "outputs": []
    },
    {
      "cell_type": "code",
      "source": [
        "plt.plot(kb,list_acc)\n",
        "plt.xlabel(\"k\")\n",
        "plt.ylabel(\"accuracy\")\n",
        "plt.title(\"ABC\")\n",
        "plt.show()"
      ],
      "metadata": {
        "colab": {
          "base_uri": "https://localhost:8080/",
          "height": 472
        },
        "id": "o2sfbHy7SXb9",
        "outputId": "9831b90a-3495-4594-dd8b-19925d63ac5f"
      },
      "execution_count": null,
      "outputs": [
        {
          "output_type": "display_data",
          "data": {
            "text/plain": [
              "<Figure size 640x480 with 1 Axes>"
            ],
            "image/png": "[encoded data removed]"
          },
          "metadata": {}
        }
      ]
    },
    {
      "cell_type": "code",
      "source": [
        "maxa = np.argmax(list_acc)*2 + 1\n",
        "print(maxa)"
      ],
      "metadata": {
        "colab": {
          "base_uri": "https://localhost:8080/"
        },
        "id": "XvSwLWAjTAxt",
        "outputId": "c6b47a9d-85b0-4ee7-b79a-43db5bd159aa"
      },
      "execution_count": null,
      "outputs": [
        {
          "output_type": "stream",
          "name": "stdout",
          "text": [
            "17\n"
          ]
        }
      ]
    },
    {
      "cell_type": "code",
      "source": [
        "knn1 = KNN(X_test,y_test,4)\n",
        "knn1.accuracy()"
      ],
      "metadata": {
        "colab": {
          "base_uri": "https://localhost:8080/"
        },
        "id": "36zr838YT8VY",
        "outputId": "6f17c0b2-7234-4231-94d5-fcfd2384a7d4"
      },
      "execution_count": null,
      "outputs": [
        {
          "output_type": "execute_result",
          "data": {
            "text/plain": [
              "90.0"
            ]
          },
          "metadata": {},
          "execution_count": 13
        }
      ]
    }
  ]
}